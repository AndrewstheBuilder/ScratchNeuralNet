{
 "cells": [
  {
   "cell_type": "code",
   "execution_count": 2,
   "metadata": {},
   "outputs": [],
   "source": [
    " import math\n",
    " import numpy as np\n",
    " import matplotlib.pyplot as plt\n",
    " %matplotlib inline"
   ]
  },
  {
   "cell_type": "code",
   "execution_count": 7,
   "metadata": {},
   "outputs": [
    {
     "name": "stdout",
     "output_type": "stream",
     "text": [
      "[-56.  -53.5 -51.  -48.5 -46.  -43.5 -41.  -38.5 -36.  -33.5 -31.  -28.5\n",
      " -26.  -23.5 -21.  -18.5 -16.  -13.5 -11.   -8.5  -6.   -3.5  -1.    1.5\n",
      "   4.    6.5   9.   11.5  14.   16.5  19.   21.5  24.   26.5  29.   31.5\n",
      "  34.   36.5  39.   41.5]\n"
     ]
    },
    {
     "data": {
      "text/plain": [
       "[<matplotlib.lines.Line2D at 0x1dff5641b50>]"
      ]
     },
     "execution_count": 7,
     "metadata": {},
     "output_type": "execute_result"
    },
    {
     "data": {
      "image/png": "[encoded data removed]",
      "text/plain": [
       "<Figure size 432x288 with 1 Axes>"
      ]
     },
     "metadata": {
      "needs_background": "light"
     },
     "output_type": "display_data"
    }
   ],
   "source": [
    "a = 2.0\n",
    "b = -3.0\n",
    "c = 10.0\n",
    "def f(x):\n",
    "    d = a*b + c*x\n",
    "    return d\n",
    "xs = np.arange(-5,5, 0.25)\n",
    "ys = f(xs)\n",
    "print(ys)\n",
    "plt.plot(xs,ys)"
   ]
  }
 ],
 "metadata": {
  "kernelspec": {
   "display_name": "Python 3",
   "language": "python",
   "name": "python3"
  },
  "language_info": {
   "codemirror_mode": {
    "name": "ipython",
    "version": 3
   },
   "file_extension": ".py",
   "mimetype": "text/x-python",
   "name": "python",
   "nbconvert_exporter": "python",
   "pygments_lexer": "ipython3",
   "version": "3.8.5"
  }
 },
 "nbformat": 4,
 "nbformat_minor": 4
}
