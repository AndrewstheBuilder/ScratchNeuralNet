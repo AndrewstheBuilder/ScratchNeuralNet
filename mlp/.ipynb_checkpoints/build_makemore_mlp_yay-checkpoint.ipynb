{
 "cells": [
  {
   "cell_type": "code",
   "execution_count": 2,
   "metadata": {},
   "outputs": [],
   "source": [
    "import torch\n",
    "import torch.nn.functional as F\n",
    "import matplotlib.pyplot as plt # for making figures\n",
    "%matplotlib inline"
   ]
  },
  {
   "cell_type": "code",
   "execution_count": 3,
   "metadata": {},
   "outputs": [],
   "source": [
    "# read in all the words\n",
    "words = open('names.txt', 'r').read().splitlines()"
   ]
  },
  {
   "cell_type": "code",
   "execution_count": 4,
   "metadata": {},
   "outputs": [
    {
     "data": {
      "text/plain": [
       "32033"
      ]
     },
     "execution_count": 4,
     "metadata": {},
     "output_type": "execute_result"
    }
   ],
   "source": [
    "len(words)"
   ]
  },
  {
   "cell_type": "code",
   "execution_count": 5,
   "metadata": {},
   "outputs": [
    {
     "name": "stdout",
     "output_type": "stream",
     "text": [
      "{1: 'a', 2: 'b', 3: 'c', 4: 'd', 5: 'e', 6: 'f', 7: 'g', 8: 'h', 9: 'i', 10: 'j', 11: 'k', 12: 'l', 13: 'm', 14: 'n', 15: 'o', 16: 'p', 17: 'q', 18: 'r', 19: 's', 20: 't', 21: 'u', 22: 'v', 23: 'w', 24: 'x', 25: 'y', 26: 'z', 0: '.'}\n"
     ]
    }
   ],
   "source": [
    "# build the vocabulary of characters and mappings to/from integers\n",
    "chars = sorted(list(set(''.join(words))))\n",
    "stoi = {s:i+1 for i,s in enumerate(chars)}\n",
    "stoi['.'] = 0\n",
    "itos = {i:s for s,i in stoi.items()}\n",
    "print(itos)"
   ]
  },
  {
   "cell_type": "code",
   "execution_count": 6,
   "metadata": {},
   "outputs": [],
   "source": [
    "# build the dataset\n",
    "block_size = 3 # context length: how many characters do we take to predict the next one?\n",
    "X, Y = [], []\n",
    "for w in words:\n",
    "    \n",
    "#     print(w)\n",
    "    context = [0]*block_size\n",
    "    for ch in w + '.':\n",
    "        ix = stoi[ch]\n",
    "        X.append(context)\n",
    "        Y.append(ix)\n",
    "#         print(''.join(itos[i] for i in context), '--->', itos[ix])\n",
    "        context = context[1:] + [ix] # crop and append\n",
    "\n",
    "X = torch.tensor(X)\n",
    "Y = torch.tensor(Y)"
   ]
  },
  {
   "cell_type": "code",
   "execution_count": 7,
   "metadata": {},
   "outputs": [
    {
     "data": {
      "text/plain": [
       "(torch.Size([228146, 3]), torch.int64, torch.Size([228146]), torch.int64)"
      ]
     },
     "execution_count": 7,
     "metadata": {},
     "output_type": "execute_result"
    }
   ],
   "source": [
    "X.shape, X.dtype, Y.shape, Y.dtype"
   ]
  },
  {
   "cell_type": "code",
   "execution_count": 11,
   "metadata": {},
   "outputs": [],
   "source": [
    "C = torch.randn((27,2)) # each one of 27 char will have 2 dimensional embedding"
   ]
  },
  {
   "cell_type": "code",
   "execution_count": 12,
   "metadata": {},
   "outputs": [
    {
     "data": {
      "text/plain": [
       "torch.Size([228146, 3, 2])"
      ]
     },
     "execution_count": 12,
     "metadata": {},
     "output_type": "execute_result"
    }
   ],
   "source": [
    "C[X].shape # for every one of the (num_of_examples) x 3 characters we got a row of 2 from the C matrix C[X] != C."
   ]
  },
  {
   "cell_type": "code",
   "execution_count": 13,
   "metadata": {},
   "outputs": [],
   "source": [
    "emb = C[X]"
   ]
  },
  {
   "cell_type": "code",
   "execution_count": 14,
   "metadata": {},
   "outputs": [],
   "source": [
    "# construct the hidden layer\n",
    "W1 = torch.randn((6, 100)) #(num_inputs = 3*2, variable number of neurons)\n",
    "b1 = torch.randn(100)"
   ]
  },
  {
   "cell_type": "code",
   "execution_count": 15,
   "metadata": {},
   "outputs": [
    {
     "ename": "RuntimeError",
     "evalue": "mat1 and mat2 shapes cannot be multiplied (684438x2 and 6x100)",
     "output_type": "error",
     "traceback": [
      "\u001b[1;31m---------------------------------------------------------------------------\u001b[0m",
      "\u001b[1;31mRuntimeError\u001b[0m                              Traceback (most recent call last)",
      "\u001b[1;32m<ipython-input-15-355728df8662>\u001b[0m in \u001b[0;36m<module>\u001b[1;34m\u001b[0m\n\u001b[1;32m----> 1\u001b[1;33m \u001b[0memb\u001b[0m \u001b[1;33m@\u001b[0m \u001b[0mW1\u001b[0m \u001b[1;33m+\u001b[0m \u001b[0mb1\u001b[0m\u001b[1;33m\u001b[0m\u001b[1;33m\u001b[0m\u001b[0m\n\u001b[0m",
      "\u001b[1;31mRuntimeError\u001b[0m: mat1 and mat2 shapes cannot be multiplied (684438x2 and 6x100)"
     ]
    }
   ],
   "source": [
    "emb @ W1 + b1"
   ]
  },
  {
   "cell_type": "code",
   "execution_count": 16,
   "metadata": {},
   "outputs": [
    {
     "data": {
      "text/plain": [
       "tensor([[[-0.9015, -0.9714],\n",
       "         [-0.9015, -0.9714],\n",
       "         [-0.9015, -0.9714]],\n",
       "\n",
       "        [[-0.9015, -0.9714],\n",
       "         [-0.9015, -0.9714],\n",
       "         [-0.8947,  0.8793]],\n",
       "\n",
       "        [[-0.9015, -0.9714],\n",
       "         [-0.8947,  0.8793],\n",
       "         [ 0.7288,  2.4679]],\n",
       "\n",
       "        ...,\n",
       "\n",
       "        [[ 0.4503,  0.2981],\n",
       "         [ 0.4503,  0.2981],\n",
       "         [-1.5956, -1.6844]],\n",
       "\n",
       "        [[ 0.4503,  0.2981],\n",
       "         [-1.5956, -1.6844],\n",
       "         [ 0.4503,  0.2981]],\n",
       "\n",
       "        [[-1.5956, -1.6844],\n",
       "         [ 0.4503,  0.2981],\n",
       "         [-0.7967,  1.1723]]])"
      ]
     },
     "execution_count": 16,
     "metadata": {},
     "output_type": "execute_result"
    }
   ],
   "source": [
    "emb"
   ]
  },
  {
   "cell_type": "code",
   "execution_count": 18,
   "metadata": {},
   "outputs": [
    {
     "name": "stdout",
     "output_type": "stream",
     "text": [
      "C[0] tensor([-0.9015, -0.9714])\n",
      "X[0] tensor([0, 0, 0])\n",
      "emb[0][0] tensor([-0.9015, -0.9714])\n",
      "emb[0][1] tensor([-0.9015, -0.9714])\n",
      "emb[0][2] tensor([-0.9015, -0.9714])\n",
      "-----------------------------------------------------------\n",
      "C[5] tensor([-0.8947,  0.8793])\n",
      "X[1] tensor([0, 0, 5])\n",
      "C[X][1] -> emb[1] tensor([[-0.9015, -0.9714],\n",
      "        [-0.9015, -0.9714],\n",
      "        [-0.8947,  0.8793]])\n"
     ]
    }
   ],
   "source": [
    "print('C[0]', C[0])\n",
    "print('X[0]', X[0])\n",
    "print('emb[0][0]', emb[0][0])\n",
    "print('emb[0][1]', emb[0][1])\n",
    "print('emb[0][2]', emb[0][2])\n",
    "print('-----------------------------------------------------------')\n",
    "print('C[5]',C[5])\n",
    "print('X[1]', X[1])\n",
    "print('C[X][1] -> emb[1]',emb[1])"
   ]
  },
  {
   "cell_type": "code",
   "execution_count": 19,
   "metadata": {},
   "outputs": [
    {
     "data": {
      "text/plain": [
       "tensor([[-0.9015, -0.9714],\n",
       "        [-0.9015, -0.9714],\n",
       "        [-0.9015, -0.9714],\n",
       "        ...,\n",
       "        [ 0.4503,  0.2981],\n",
       "        [ 0.4503,  0.2981],\n",
       "        [-1.5956, -1.6844]])"
      ]
     },
     "execution_count": 19,
     "metadata": {},
     "output_type": "execute_result"
    }
   ],
   "source": [
    "emb[:, 0, :]"
   ]
  },
  {
   "cell_type": "code",
   "execution_count": 20,
   "metadata": {},
   "outputs": [
    {
     "data": {
      "text/plain": [
       "torch.Size([228146, 6])"
      ]
     },
     "execution_count": 20,
     "metadata": {},
     "output_type": "execute_result"
    }
   ],
   "source": [
    "torch.cat([emb[:, 0, :],emb[:, 1, :],emb[:, 2, :]], 1).shape # [embeddings for all of the first characters, second chars, third chars"
   ]
  },
  {
   "cell_type": "code",
   "execution_count": 21,
   "metadata": {},
   "outputs": [
    {
     "data": {
      "text/plain": [
       "(tensor([[-0.9015, -0.9714],\n",
       "         [-0.9015, -0.9714],\n",
       "         [-0.9015, -0.9714],\n",
       "         ...,\n",
       "         [ 0.4503,  0.2981],\n",
       "         [ 0.4503,  0.2981],\n",
       "         [-1.5956, -1.6844]]),\n",
       " tensor([[-0.9015, -0.9714],\n",
       "         [-0.9015, -0.9714],\n",
       "         [-0.8947,  0.8793],\n",
       "         ...,\n",
       "         [ 0.4503,  0.2981],\n",
       "         [-1.5956, -1.6844],\n",
       "         [ 0.4503,  0.2981]]),\n",
       " tensor([[-0.9015, -0.9714],\n",
       "         [-0.8947,  0.8793],\n",
       "         [ 0.7288,  2.4679],\n",
       "         ...,\n",
       "         [-1.5956, -1.6844],\n",
       "         [ 0.4503,  0.2981],\n",
       "         [-0.7967,  1.1723]]))"
      ]
     },
     "execution_count": 21,
     "metadata": {},
     "output_type": "execute_result"
    }
   ],
   "source": [
    "torch.unbind(emb,1)"
   ]
  },
  {
   "cell_type": "code",
   "execution_count": 34,
   "metadata": {},
   "outputs": [
    {
     "data": {
      "text/plain": [
       "tensor([[-9.1079e-02, -1.2058e-01, -9.1079e-02, -1.2058e-01, -9.1079e-02,\n",
       "         -1.2058e-01],\n",
       "        [-9.1079e-02, -1.2058e-01, -9.1079e-02, -1.2058e-01, -6.4305e-01,\n",
       "          9.2540e-01],\n",
       "        [-9.1079e-02, -1.2058e-01, -6.4305e-01,  9.2540e-01, -2.5104e-01,\n",
       "          1.5556e+00],\n",
       "        [-6.4305e-01,  9.2540e-01, -2.5104e-01,  1.5556e+00, -2.5104e-01,\n",
       "          1.5556e+00],\n",
       "        [-2.5104e-01,  1.5556e+00, -2.5104e-01,  1.5556e+00, -1.1086e+00,\n",
       "         -2.3352e+00],\n",
       "        [-9.1079e-02, -1.2058e-01, -9.1079e-02, -1.2058e-01, -9.1079e-02,\n",
       "         -1.2058e-01],\n",
       "        [-9.1079e-02, -1.2058e-01, -9.1079e-02, -1.2058e-01,  2.3154e+00,\n",
       "          5.1048e-01],\n",
       "        [-9.1079e-02, -1.2058e-01,  2.3154e+00,  5.1048e-01, -1.2148e+00,\n",
       "         -1.1060e-01],\n",
       "        [ 2.3154e+00,  5.1048e-01, -1.2148e+00, -1.1060e-01, -2.1194e-01,\n",
       "          6.2278e-01],\n",
       "        [-1.2148e+00, -1.1060e-01, -2.1194e-01,  6.2278e-01, -1.6346e-01,\n",
       "          1.3759e+00],\n",
       "        [-2.1194e-01,  6.2278e-01, -1.6346e-01,  1.3759e+00, -2.1194e-01,\n",
       "          6.2278e-01],\n",
       "        [-1.6346e-01,  1.3759e+00, -2.1194e-01,  6.2278e-01, -1.1086e+00,\n",
       "         -2.3352e+00],\n",
       "        [-9.1079e-02, -1.2058e-01, -9.1079e-02, -1.2058e-01, -9.1079e-02,\n",
       "         -1.2058e-01],\n",
       "        [-9.1079e-02, -1.2058e-01, -9.1079e-02, -1.2058e-01, -1.1086e+00,\n",
       "         -2.3352e+00],\n",
       "        [-9.1079e-02, -1.2058e-01, -1.1086e+00, -2.3352e+00, -1.6346e-01,\n",
       "          1.3759e+00],\n",
       "        [-1.1086e+00, -2.3352e+00, -1.6346e-01,  1.3759e+00, -1.1086e+00,\n",
       "         -2.3352e+00],\n",
       "        [-9.1079e-02, -1.2058e-01, -9.1079e-02, -1.2058e-01, -9.1079e-02,\n",
       "         -1.2058e-01],\n",
       "        [-9.1079e-02, -1.2058e-01, -9.1079e-02, -1.2058e-01, -2.1194e-01,\n",
       "          6.2278e-01],\n",
       "        [-9.1079e-02, -1.2058e-01, -2.1194e-01,  6.2278e-01,  5.5838e-01,\n",
       "          1.7255e-01],\n",
       "        [-2.1194e-01,  6.2278e-01,  5.5838e-01,  1.7255e-01, -1.1086e+00,\n",
       "         -2.3352e+00],\n",
       "        [ 5.5838e-01,  1.7255e-01, -1.1086e+00, -2.3352e+00,  8.4964e-01,\n",
       "         -2.1192e-03],\n",
       "        [-1.1086e+00, -2.3352e+00,  8.4964e-01, -2.1192e-03, -6.4305e-01,\n",
       "          9.2540e-01],\n",
       "        [ 8.4964e-01, -2.1192e-03, -6.4305e-01,  9.2540e-01, -1.2148e+00,\n",
       "         -1.1060e-01],\n",
       "        [-6.4305e-01,  9.2540e-01, -1.2148e+00, -1.1060e-01, -1.2148e+00,\n",
       "         -1.1060e-01],\n",
       "        [-1.2148e+00, -1.1060e-01, -1.2148e+00, -1.1060e-01, -1.1086e+00,\n",
       "         -2.3352e+00],\n",
       "        [-9.1079e-02, -1.2058e-01, -9.1079e-02, -1.2058e-01, -9.1079e-02,\n",
       "         -1.2058e-01],\n",
       "        [-9.1079e-02, -1.2058e-01, -9.1079e-02, -1.2058e-01,  5.5838e-01,\n",
       "          1.7255e-01],\n",
       "        [-9.1079e-02, -1.2058e-01,  5.5838e-01,  1.7255e-01,  2.3154e+00,\n",
       "          5.1048e-01],\n",
       "        [ 5.5838e-01,  1.7255e-01,  2.3154e+00,  5.1048e-01,  7.0854e-01,\n",
       "         -9.1979e-01],\n",
       "        [ 2.3154e+00,  5.1048e-01,  7.0854e-01, -9.1979e-01, -1.7234e+00,\n",
       "          6.2434e-02],\n",
       "        [ 7.0854e-01, -9.1979e-01, -1.7234e+00,  6.2434e-02, -2.1194e-01,\n",
       "          6.2278e-01],\n",
       "        [-1.7234e+00,  6.2434e-02, -2.1194e-01,  6.2278e-01, -1.1086e+00,\n",
       "         -2.3352e+00]])"
      ]
     },
     "execution_count": 34,
     "metadata": {},
     "output_type": "execute_result"
    }
   ],
   "source": [
    "torch.cat(torch.unbind(emb,1), 1)"
   ]
  },
  {
   "cell_type": "code",
   "execution_count": 35,
   "metadata": {},
   "outputs": [],
   "source": [
    "a = torch.arange(18)"
   ]
  },
  {
   "cell_type": "code",
   "execution_count": 36,
   "metadata": {},
   "outputs": [
    {
     "data": {
      "text/plain": [
       "torch.Size([18])"
      ]
     },
     "execution_count": 36,
     "metadata": {},
     "output_type": "execute_result"
    }
   ],
   "source": [
    "a.shape"
   ]
  },
  {
   "cell_type": "code",
   "execution_count": 37,
   "metadata": {},
   "outputs": [
    {
     "data": {
      "text/plain": [
       "tensor([[[ 0,  1],\n",
       "         [ 2,  3],\n",
       "         [ 4,  5]],\n",
       "\n",
       "        [[ 6,  7],\n",
       "         [ 8,  9],\n",
       "         [10, 11]],\n",
       "\n",
       "        [[12, 13],\n",
       "         [14, 15],\n",
       "         [16, 17]]])"
      ]
     },
     "execution_count": 37,
     "metadata": {},
     "output_type": "execute_result"
    }
   ],
   "source": [
    "a.view(3,3,2)"
   ]
  },
  {
   "cell_type": "code",
   "execution_count": 40,
   "metadata": {},
   "outputs": [
    {
     "data": {
      "text/plain": [
       "tensor([[[-9.1079e-02, -1.2058e-01],\n",
       "         [-9.1079e-02, -1.2058e-01],\n",
       "         [-9.1079e-02, -1.2058e-01]],\n",
       "\n",
       "        [[-9.1079e-02, -1.2058e-01],\n",
       "         [-9.1079e-02, -1.2058e-01],\n",
       "         [-6.4305e-01,  9.2540e-01]],\n",
       "\n",
       "        [[-9.1079e-02, -1.2058e-01],\n",
       "         [-6.4305e-01,  9.2540e-01],\n",
       "         [-2.5104e-01,  1.5556e+00]],\n",
       "\n",
       "        [[-6.4305e-01,  9.2540e-01],\n",
       "         [-2.5104e-01,  1.5556e+00],\n",
       "         [-2.5104e-01,  1.5556e+00]],\n",
       "\n",
       "        [[-2.5104e-01,  1.5556e+00],\n",
       "         [-2.5104e-01,  1.5556e+00],\n",
       "         [-1.1086e+00, -2.3352e+00]],\n",
       "\n",
       "        [[-9.1079e-02, -1.2058e-01],\n",
       "         [-9.1079e-02, -1.2058e-01],\n",
       "         [-9.1079e-02, -1.2058e-01]],\n",
       "\n",
       "        [[-9.1079e-02, -1.2058e-01],\n",
       "         [-9.1079e-02, -1.2058e-01],\n",
       "         [ 2.3154e+00,  5.1048e-01]],\n",
       "\n",
       "        [[-9.1079e-02, -1.2058e-01],\n",
       "         [ 2.3154e+00,  5.1048e-01],\n",
       "         [-1.2148e+00, -1.1060e-01]],\n",
       "\n",
       "        [[ 2.3154e+00,  5.1048e-01],\n",
       "         [-1.2148e+00, -1.1060e-01],\n",
       "         [-2.1194e-01,  6.2278e-01]],\n",
       "\n",
       "        [[-1.2148e+00, -1.1060e-01],\n",
       "         [-2.1194e-01,  6.2278e-01],\n",
       "         [-1.6346e-01,  1.3759e+00]],\n",
       "\n",
       "        [[-2.1194e-01,  6.2278e-01],\n",
       "         [-1.6346e-01,  1.3759e+00],\n",
       "         [-2.1194e-01,  6.2278e-01]],\n",
       "\n",
       "        [[-1.6346e-01,  1.3759e+00],\n",
       "         [-2.1194e-01,  6.2278e-01],\n",
       "         [-1.1086e+00, -2.3352e+00]],\n",
       "\n",
       "        [[-9.1079e-02, -1.2058e-01],\n",
       "         [-9.1079e-02, -1.2058e-01],\n",
       "         [-9.1079e-02, -1.2058e-01]],\n",
       "\n",
       "        [[-9.1079e-02, -1.2058e-01],\n",
       "         [-9.1079e-02, -1.2058e-01],\n",
       "         [-1.1086e+00, -2.3352e+00]],\n",
       "\n",
       "        [[-9.1079e-02, -1.2058e-01],\n",
       "         [-1.1086e+00, -2.3352e+00],\n",
       "         [-1.6346e-01,  1.3759e+00]],\n",
       "\n",
       "        [[-1.1086e+00, -2.3352e+00],\n",
       "         [-1.6346e-01,  1.3759e+00],\n",
       "         [-1.1086e+00, -2.3352e+00]],\n",
       "\n",
       "        [[-9.1079e-02, -1.2058e-01],\n",
       "         [-9.1079e-02, -1.2058e-01],\n",
       "         [-9.1079e-02, -1.2058e-01]],\n",
       "\n",
       "        [[-9.1079e-02, -1.2058e-01],\n",
       "         [-9.1079e-02, -1.2058e-01],\n",
       "         [-2.1194e-01,  6.2278e-01]],\n",
       "\n",
       "        [[-9.1079e-02, -1.2058e-01],\n",
       "         [-2.1194e-01,  6.2278e-01],\n",
       "         [ 5.5838e-01,  1.7255e-01]],\n",
       "\n",
       "        [[-2.1194e-01,  6.2278e-01],\n",
       "         [ 5.5838e-01,  1.7255e-01],\n",
       "         [-1.1086e+00, -2.3352e+00]],\n",
       "\n",
       "        [[ 5.5838e-01,  1.7255e-01],\n",
       "         [-1.1086e+00, -2.3352e+00],\n",
       "         [ 8.4964e-01, -2.1192e-03]],\n",
       "\n",
       "        [[-1.1086e+00, -2.3352e+00],\n",
       "         [ 8.4964e-01, -2.1192e-03],\n",
       "         [-6.4305e-01,  9.2540e-01]],\n",
       "\n",
       "        [[ 8.4964e-01, -2.1192e-03],\n",
       "         [-6.4305e-01,  9.2540e-01],\n",
       "         [-1.2148e+00, -1.1060e-01]],\n",
       "\n",
       "        [[-6.4305e-01,  9.2540e-01],\n",
       "         [-1.2148e+00, -1.1060e-01],\n",
       "         [-1.2148e+00, -1.1060e-01]],\n",
       "\n",
       "        [[-1.2148e+00, -1.1060e-01],\n",
       "         [-1.2148e+00, -1.1060e-01],\n",
       "         [-1.1086e+00, -2.3352e+00]],\n",
       "\n",
       "        [[-9.1079e-02, -1.2058e-01],\n",
       "         [-9.1079e-02, -1.2058e-01],\n",
       "         [-9.1079e-02, -1.2058e-01]],\n",
       "\n",
       "        [[-9.1079e-02, -1.2058e-01],\n",
       "         [-9.1079e-02, -1.2058e-01],\n",
       "         [ 5.5838e-01,  1.7255e-01]],\n",
       "\n",
       "        [[-9.1079e-02, -1.2058e-01],\n",
       "         [ 5.5838e-01,  1.7255e-01],\n",
       "         [ 2.3154e+00,  5.1048e-01]],\n",
       "\n",
       "        [[ 5.5838e-01,  1.7255e-01],\n",
       "         [ 2.3154e+00,  5.1048e-01],\n",
       "         [ 7.0854e-01, -9.1979e-01]],\n",
       "\n",
       "        [[ 2.3154e+00,  5.1048e-01],\n",
       "         [ 7.0854e-01, -9.1979e-01],\n",
       "         [-1.7234e+00,  6.2434e-02]],\n",
       "\n",
       "        [[ 7.0854e-01, -9.1979e-01],\n",
       "         [-1.7234e+00,  6.2434e-02],\n",
       "         [-2.1194e-01,  6.2278e-01]],\n",
       "\n",
       "        [[-1.7234e+00,  6.2434e-02],\n",
       "         [-2.1194e-01,  6.2278e-01],\n",
       "         [-1.1086e+00, -2.3352e+00]]])"
      ]
     },
     "execution_count": 40,
     "metadata": {},
     "output_type": "execute_result"
    }
   ],
   "source": [
    "emb"
   ]
  },
  {
   "cell_type": "code",
   "execution_count": 42,
   "metadata": {},
   "outputs": [
    {
     "data": {
      "text/plain": [
       "tensor([[-9.1079e-02, -1.2058e-01, -9.1079e-02, -1.2058e-01, -9.1079e-02,\n",
       "         -1.2058e-01],\n",
       "        [-9.1079e-02, -1.2058e-01, -9.1079e-02, -1.2058e-01, -6.4305e-01,\n",
       "          9.2540e-01],\n",
       "        [-9.1079e-02, -1.2058e-01, -6.4305e-01,  9.2540e-01, -2.5104e-01,\n",
       "          1.5556e+00],\n",
       "        [-6.4305e-01,  9.2540e-01, -2.5104e-01,  1.5556e+00, -2.5104e-01,\n",
       "          1.5556e+00],\n",
       "        [-2.5104e-01,  1.5556e+00, -2.5104e-01,  1.5556e+00, -1.1086e+00,\n",
       "         -2.3352e+00],\n",
       "        [-9.1079e-02, -1.2058e-01, -9.1079e-02, -1.2058e-01, -9.1079e-02,\n",
       "         -1.2058e-01],\n",
       "        [-9.1079e-02, -1.2058e-01, -9.1079e-02, -1.2058e-01,  2.3154e+00,\n",
       "          5.1048e-01],\n",
       "        [-9.1079e-02, -1.2058e-01,  2.3154e+00,  5.1048e-01, -1.2148e+00,\n",
       "         -1.1060e-01],\n",
       "        [ 2.3154e+00,  5.1048e-01, -1.2148e+00, -1.1060e-01, -2.1194e-01,\n",
       "          6.2278e-01],\n",
       "        [-1.2148e+00, -1.1060e-01, -2.1194e-01,  6.2278e-01, -1.6346e-01,\n",
       "          1.3759e+00],\n",
       "        [-2.1194e-01,  6.2278e-01, -1.6346e-01,  1.3759e+00, -2.1194e-01,\n",
       "          6.2278e-01],\n",
       "        [-1.6346e-01,  1.3759e+00, -2.1194e-01,  6.2278e-01, -1.1086e+00,\n",
       "         -2.3352e+00],\n",
       "        [-9.1079e-02, -1.2058e-01, -9.1079e-02, -1.2058e-01, -9.1079e-02,\n",
       "         -1.2058e-01],\n",
       "        [-9.1079e-02, -1.2058e-01, -9.1079e-02, -1.2058e-01, -1.1086e+00,\n",
       "         -2.3352e+00],\n",
       "        [-9.1079e-02, -1.2058e-01, -1.1086e+00, -2.3352e+00, -1.6346e-01,\n",
       "          1.3759e+00],\n",
       "        [-1.1086e+00, -2.3352e+00, -1.6346e-01,  1.3759e+00, -1.1086e+00,\n",
       "         -2.3352e+00],\n",
       "        [-9.1079e-02, -1.2058e-01, -9.1079e-02, -1.2058e-01, -9.1079e-02,\n",
       "         -1.2058e-01],\n",
       "        [-9.1079e-02, -1.2058e-01, -9.1079e-02, -1.2058e-01, -2.1194e-01,\n",
       "          6.2278e-01],\n",
       "        [-9.1079e-02, -1.2058e-01, -2.1194e-01,  6.2278e-01,  5.5838e-01,\n",
       "          1.7255e-01],\n",
       "        [-2.1194e-01,  6.2278e-01,  5.5838e-01,  1.7255e-01, -1.1086e+00,\n",
       "         -2.3352e+00],\n",
       "        [ 5.5838e-01,  1.7255e-01, -1.1086e+00, -2.3352e+00,  8.4964e-01,\n",
       "         -2.1192e-03],\n",
       "        [-1.1086e+00, -2.3352e+00,  8.4964e-01, -2.1192e-03, -6.4305e-01,\n",
       "          9.2540e-01],\n",
       "        [ 8.4964e-01, -2.1192e-03, -6.4305e-01,  9.2540e-01, -1.2148e+00,\n",
       "         -1.1060e-01],\n",
       "        [-6.4305e-01,  9.2540e-01, -1.2148e+00, -1.1060e-01, -1.2148e+00,\n",
       "         -1.1060e-01],\n",
       "        [-1.2148e+00, -1.1060e-01, -1.2148e+00, -1.1060e-01, -1.1086e+00,\n",
       "         -2.3352e+00],\n",
       "        [-9.1079e-02, -1.2058e-01, -9.1079e-02, -1.2058e-01, -9.1079e-02,\n",
       "         -1.2058e-01],\n",
       "        [-9.1079e-02, -1.2058e-01, -9.1079e-02, -1.2058e-01,  5.5838e-01,\n",
       "          1.7255e-01],\n",
       "        [-9.1079e-02, -1.2058e-01,  5.5838e-01,  1.7255e-01,  2.3154e+00,\n",
       "          5.1048e-01],\n",
       "        [ 5.5838e-01,  1.7255e-01,  2.3154e+00,  5.1048e-01,  7.0854e-01,\n",
       "         -9.1979e-01],\n",
       "        [ 2.3154e+00,  5.1048e-01,  7.0854e-01, -9.1979e-01, -1.7234e+00,\n",
       "          6.2434e-02],\n",
       "        [ 7.0854e-01, -9.1979e-01, -1.7234e+00,  6.2434e-02, -2.1194e-01,\n",
       "          6.2278e-01],\n",
       "        [-1.7234e+00,  6.2434e-02, -2.1194e-01,  6.2278e-01, -1.1086e+00,\n",
       "         -2.3352e+00]])"
      ]
     },
     "execution_count": 42,
     "metadata": {},
     "output_type": "execute_result"
    }
   ],
   "source": [
    "emb.view(32, 6) # this does the concatenation that we have done previously but it is more efficient because it does not\n",
    "# copy memory instead it just interprets what's in the memory differently"
   ]
  },
  {
   "cell_type": "code",
   "execution_count": 49,
   "metadata": {},
   "outputs": [],
   "source": [
    "h = torch.tanh(emb.view(-1, 6) @ W1 + b1) # for -1 here pytorch infers what should go into that dimension"
   ]
  },
  {
   "cell_type": "code",
   "execution_count": 50,
   "metadata": {},
   "outputs": [
    {
     "data": {
      "text/plain": [
       "torch.Size([32, 100])"
      ]
     },
     "execution_count": 50,
     "metadata": {},
     "output_type": "execute_result"
    }
   ],
   "source": [
    "h.shape"
   ]
  },
  {
   "cell_type": "code",
   "execution_count": 51,
   "metadata": {},
   "outputs": [
    {
     "data": {
      "text/plain": [
       "torch.Size([32, 100])"
      ]
     },
     "execution_count": 51,
     "metadata": {},
     "output_type": "execute_result"
    }
   ],
   "source": [
    "(emb.view(-1, 6) @ W1).shape"
   ]
  },
  {
   "cell_type": "code",
   "execution_count": 52,
   "metadata": {},
   "outputs": [
    {
     "data": {
      "text/plain": [
       "torch.Size([100])"
      ]
     },
     "execution_count": 52,
     "metadata": {},
     "output_type": "execute_result"
    }
   ],
   "source": [
    "b1.shape"
   ]
  },
  {
   "cell_type": "code",
   "execution_count": 53,
   "metadata": {},
   "outputs": [],
   "source": [
    "# will broadcasting allow (emb.view(-1, 6) @ W1) + b1 ?? \n",
    "# (emb.view(-1, 6) @ W1) = 32, 100\n",
    "# b1 = 100\n",
    "#  (b1)1, 100 --> when adding this to (emb.view(-1, 6) @ W1) 32,100 tensor this will get copied 32 times and add to all the rows\n",
    "# so this is correct\n"
   ]
  },
  {
   "cell_type": "code",
   "execution_count": 56,
   "metadata": {},
   "outputs": [],
   "source": [
    "W2 = torch.randn((100,27)) # 27 for 27 possible characters that will come next\n",
    "b2 = torch.randn(27)"
   ]
  },
  {
   "cell_type": "code",
   "execution_count": 57,
   "metadata": {},
   "outputs": [],
   "source": [
    "logits = h @ W2 + b2"
   ]
  },
  {
   "cell_type": "code",
   "execution_count": 58,
   "metadata": {},
   "outputs": [
    {
     "data": {
      "text/plain": [
       "torch.Size([32, 27])"
      ]
     },
     "execution_count": 58,
     "metadata": {},
     "output_type": "execute_result"
    }
   ],
   "source": [
    "logits.shape"
   ]
  },
  {
   "cell_type": "code",
   "execution_count": 59,
   "metadata": {},
   "outputs": [],
   "source": [
    "counts = logits.exp()"
   ]
  },
  {
   "cell_type": "code",
   "execution_count": 71,
   "metadata": {},
   "outputs": [],
   "source": [
    "prob = counts / counts.sum(1, keepdims=True)"
   ]
  },
  {
   "cell_type": "code",
   "execution_count": 72,
   "metadata": {},
   "outputs": [
    {
     "data": {
      "text/plain": [
       "torch.Size([32, 27])"
      ]
     },
     "execution_count": 72,
     "metadata": {},
     "output_type": "execute_result"
    }
   ],
   "source": [
    "prob.shape"
   ]
  },
  {
   "cell_type": "code",
   "execution_count": 73,
   "metadata": {},
   "outputs": [
    {
     "data": {
      "text/plain": [
       "tensor(1.)"
      ]
     },
     "execution_count": 73,
     "metadata": {},
     "output_type": "execute_result"
    }
   ],
   "source": [
    "prob[0].sum()"
   ]
  },
  {
   "cell_type": "code",
   "execution_count": 79,
   "metadata": {},
   "outputs": [
    {
     "data": {
      "text/plain": [
       "tensor(18.6424)"
      ]
     },
     "execution_count": 79,
     "metadata": {},
     "output_type": "execute_result"
    }
   ],
   "source": [
    "loss = -prob[torch.arange(32), Y].log().mean()\n",
    "loss"
   ]
  },
  {
   "cell_type": "code",
   "execution_count": 68,
   "metadata": {},
   "outputs": [
    {
     "data": {
      "text/plain": [
       "tensor([ 0,  1,  2,  3,  4,  5,  6,  7,  8,  9, 10, 11, 12, 13, 14, 15, 16, 17,\n",
       "        18, 19, 20, 21, 22, 23, 24, 25, 26, 27, 28, 29, 30, 31])"
      ]
     },
     "execution_count": 68,
     "metadata": {},
     "output_type": "execute_result"
    }
   ],
   "source": [
    "torch.arange(32)"
   ]
  },
  {
   "cell_type": "code",
   "execution_count": 80,
   "metadata": {},
   "outputs": [
    {
     "data": {
      "text/plain": [
       "tensor([ 5, 13, 13,  1,  0, 15, 12,  9, 22,  9,  1,  0,  1, 22,  1,  0,  9, 19,\n",
       "         1,  2,  5, 12, 12,  1,  0, 19, 15, 16,  8,  9,  1,  0])"
      ]
     },
     "execution_count": 80,
     "metadata": {},
     "output_type": "execute_result"
    }
   ],
   "source": [
    "Y"
   ]
  },
  {
   "cell_type": "code",
   "execution_count": 81,
   "metadata": {},
   "outputs": [],
   "source": [
    "# ---------------- now made respectable :) ----------------"
   ]
  },
  {
   "cell_type": "code",
   "execution_count": 82,
   "metadata": {},
   "outputs": [
    {
     "data": {
      "text/plain": [
       "(torch.Size([32, 3]), torch.Size([32]))"
      ]
     },
     "execution_count": 82,
     "metadata": {},
     "output_type": "execute_result"
    }
   ],
   "source": [
    "X.shape, Y.shape # dataset"
   ]
  },
  {
   "cell_type": "code",
   "execution_count": 23,
   "metadata": {},
   "outputs": [],
   "source": [
    "g = torch.Generator().manual_seed(2147483647) # for reproducibility\n",
    "C = torch.randn((27,2), generator=g)\n",
    "W1 = torch.randn((6, 100), generator=g)\n",
    "b1 = torch.randn(100, generator=g)\n",
    "W2 = torch.randn((100, 27), generator=g)\n",
    "b2 = torch.randn(27, generator=g)\n",
    "parameters = [C, W1, b1, W2, b2]"
   ]
  },
  {
   "cell_type": "code",
   "execution_count": 84,
   "metadata": {},
   "outputs": [
    {
     "data": {
      "text/plain": [
       "3481"
      ]
     },
     "execution_count": 84,
     "metadata": {},
     "output_type": "execute_result"
    }
   ],
   "source": [
    "sum(p.nelement() for p in parameters) # number of parameters in total"
   ]
  },
  {
   "cell_type": "code",
   "execution_count": 90,
   "metadata": {},
   "outputs": [
    {
     "data": {
      "text/plain": [
       "tensor(17.7697)"
      ]
     },
     "execution_count": 90,
     "metadata": {},
     "output_type": "execute_result"
    }
   ],
   "source": [
    "emb = C[X] # (32, 3, 2)\n",
    "h = torch.tanh(emb.view(-1,6) @ W1 + b1) # (32, 100)\n",
    "logits = h @ W2 + b2 # (32, 27)\n",
    "# Never do below three lines in production instead use F.cross_entropy()\n",
    "# counts = logits.exp()\n",
    "# prob = counts / counts.sum(1, keepdims=True)\n",
    "# loss = -prob[torch.arange(32), Y].log().mean()\n",
    "loss = F.cross_entropy(logits, Y)\n",
    "loss"
   ]
  },
  {
   "cell_type": "code",
   "execution_count": 88,
   "metadata": {},
   "outputs": [
    {
     "data": {
      "text/plain": [
       "tensor(17.7697)"
      ]
     },
     "execution_count": 88,
     "metadata": {},
     "output_type": "execute_result"
    }
   ],
   "source": [
    "# 1.\n",
    "# counts = logits.exp()\n",
    "# prob = counts / counts.sum(1, keepdims=True)\n",
    "# loss = -prob[torch.arange(32), Y].log().mean()\n",
    "\n",
    "# 2.\n",
    "# F.cross_entropy(logits, Y)\n",
    "#\n",
    "# 1 and 2. are equivalent. 2. is more efficient under the hood because instead of creating separate tensors\n",
    "# for each equation it does a fused kernel.\n",
    "# a. the forward pass is much more efficient because of reason stated above\n",
    "# b. the backward pass will be much more efficient because the derivative will be simplified\n",
    "# c. the numbers are better well behaved. logits.exp() can cause nans but pytorch internally solved this\n",
    "#    by subtracting the max number from the tensor before .exp() which still gives an equivalent output."
   ]
  },
  {
   "cell_type": "code",
   "execution_count": 22,
   "metadata": {},
   "outputs": [
    {
     "ename": "NameError",
     "evalue": "name 'parameters' is not defined",
     "output_type": "error",
     "traceback": [
      "\u001b[1;31m---------------------------------------------------------------------------\u001b[0m",
      "\u001b[1;31mNameError\u001b[0m                                 Traceback (most recent call last)",
      "\u001b[1;32m<ipython-input-22-caa5b8518ff8>\u001b[0m in \u001b[0;36m<module>\u001b[1;34m\u001b[0m\n\u001b[1;32m----> 1\u001b[1;33m \u001b[1;32mfor\u001b[0m \u001b[0mp\u001b[0m \u001b[1;32min\u001b[0m \u001b[0mparameters\u001b[0m\u001b[1;33m:\u001b[0m\u001b[1;33m\u001b[0m\u001b[1;33m\u001b[0m\u001b[0m\n\u001b[0m\u001b[0;32m      2\u001b[0m     \u001b[0mp\u001b[0m\u001b[1;33m.\u001b[0m\u001b[0mrequires_grad\u001b[0m \u001b[1;33m=\u001b[0m \u001b[1;32mTrue\u001b[0m\u001b[1;33m\u001b[0m\u001b[1;33m\u001b[0m\u001b[0m\n",
      "\u001b[1;31mNameError\u001b[0m: name 'parameters' is not defined"
     ]
    }
   ],
   "source": [
    "for p in parameters:\n",
    "    p.requires_grad = True"
   ]
  },
  {
   "cell_type": "code",
   "execution_count": 94,
   "metadata": {},
   "outputs": [
    {
     "name": "stdout",
     "output_type": "stream",
     "text": [
      "0.25361168384552\n"
     ]
    }
   ],
   "source": [
    " for _ in range(1000):\n",
    "        \n",
    "    # forward pass\n",
    "    emb = C[X] # (32, 3, 2)\n",
    "    h = torch.tanh(emb.view(-1, 6) @ W1 + b1) # (32, 100)\n",
    "    logits = h @ W2 + b2 # (32, 27)\n",
    "    loss = F.cross_entropy(logits, Y)\n",
    "    # backward pass\n",
    "    for p in parameters:\n",
    "        p.grad = None\n",
    "    loss.backward()\n",
    "    # update\n",
    "    for p in parameters:\n",
    "        p.data += -0.1 * p.grad\n",
    "print(loss.item())"
   ]
  },
  {
   "cell_type": "code",
   "execution_count": 101,
   "metadata": {},
   "outputs": [
    {
     "name": "stdout",
     "output_type": "stream",
     "text": [
      "Max values along dim 0: tensor([3, 4])\n",
      "Indices of max values along dim 0: tensor([1, 1])\n",
      "Max values along dim 1: tensor([2, 4])\n",
      "Indices of max values along dim 1: tensor([0, 1])\n"
     ]
    }
   ],
   "source": [
    "# playing with the tensor.max() for my understanding\n",
    "x = torch.tensor([[2, 1], [3, 4]])\n",
    "\n",
    "max_values, max_indices = x.max(dim=0)\n",
    "\n",
    "print(\"Max values along dim 0:\", max_values)\n",
    "print(\"Indices of max values along dim 0:\", max_indices)\n",
    "\n",
    "x = torch.tensor([[2, 1], [3, 4]])\n",
    "\n",
    "max_values, max_indices = x.max(dim=1)\n",
    "\n",
    "print(\"Max values along dim 1:\", max_values)\n",
    "print(\"Indices of max values along dim 1:\", max_indices)"
   ]
  },
  {
   "cell_type": "code",
   "execution_count": 104,
   "metadata": {},
   "outputs": [
    {
     "data": {
      "text/plain": [
       "torch.return_types.max(\n",
       "values=tensor([13.8819, 18.9210, 21.1106, 21.3680, 17.5255, 13.8819, 16.7710, 14.8131,\n",
       "        16.5614, 19.2740, 16.8058, 21.7451, 13.8819, 18.0764, 18.0122, 20.9834,\n",
       "        13.8819, 17.3934, 16.1381, 18.0022, 19.2822, 16.8741, 11.6843, 11.3966,\n",
       "        16.0696, 13.8819, 16.8989, 17.7183, 13.3022, 16.8211, 20.0219, 17.1322],\n",
       "       grad_fn=<MaxBackward0>),\n",
       "indices=tensor([19, 13, 13,  1,  0, 19, 12,  9, 22,  9,  1,  0, 19, 22,  1,  0, 19, 19,\n",
       "         1,  2,  5, 12, 12,  1,  0, 19, 15, 16,  8,  9,  1,  0]))"
      ]
     },
     "execution_count": 104,
     "metadata": {},
     "output_type": "execute_result"
    }
   ],
   "source": [
    "# look at logits.max and compare against Y to see why loss can't be zero\n",
    "# loss can't be zero because we have ... in the beginning and they map to completely different values most of the time.\n",
    "logits.max(1)\n"
   ]
  },
  {
   "cell_type": "code",
   "execution_count": 112,
   "metadata": {},
   "outputs": [
    {
     "data": {
      "text/plain": [
       "tensor([ 5, 13, 13,  ..., 26, 24,  0])"
      ]
     },
     "execution_count": 112,
     "metadata": {},
     "output_type": "execute_result"
    }
   ],
   "source": [
    "Y"
   ]
  },
  {
   "cell_type": "code",
   "execution_count": 113,
   "metadata": {},
   "outputs": [],
   "source": [
    "# ---------------- now made respectable :) ---------------- cleaned up version"
   ]
  },
  {
   "cell_type": "code",
   "execution_count": 135,
   "metadata": {},
   "outputs": [
    {
     "data": {
      "text/plain": [
       "(torch.Size([228146, 3]), torch.Size([228146]))"
      ]
     },
     "execution_count": 135,
     "metadata": {},
     "output_type": "execute_result"
    }
   ],
   "source": [
    "X.shape, Y.shape # dataset"
   ]
  },
  {
   "cell_type": "code",
   "execution_count": 45,
   "metadata": {},
   "outputs": [],
   "source": [
    "g = torch.Generator().manual_seed(2147483647) # for reproducibility\n",
    "C = torch.randn((27,2), generator=g)\n",
    "W1 = torch.randn((6, 100), generator=g)\n",
    "b1 = torch.randn(100, generator=g)\n",
    "W2 = torch.randn((100, 27), generator=g)\n",
    "b2 = torch.randn(27, generator=g)\n",
    "parameters = [C, W1, b1, W2, b2]"
   ]
  },
  {
   "cell_type": "code",
   "execution_count": 46,
   "metadata": {},
   "outputs": [
    {
     "data": {
      "text/plain": [
       "3481"
      ]
     },
     "execution_count": 46,
     "metadata": {},
     "output_type": "execute_result"
    }
   ],
   "source": [
    "sum(p.nelement() for p in parameters) # number of parameters in total"
   ]
  },
  {
   "cell_type": "code",
   "execution_count": 47,
   "metadata": {},
   "outputs": [],
   "source": [
    "for p in parameters:\n",
    "    p.requires_grad = True"
   ]
  },
  {
   "cell_type": "code",
   "execution_count": 48,
   "metadata": {},
   "outputs": [],
   "source": [
    "lre = torch.linspace(-3, 0, 1000) # learning rate exponent\n",
    "lrs = 10**lre\n",
    "lri = []\n",
    "lossi = []"
   ]
  },
  {
   "cell_type": "code",
   "execution_count": 56,
   "metadata": {},
   "outputs": [],
   "source": [
    "for i in range(10000):\n",
    "    \n",
    "    # minibatch construct\n",
    "    ix = torch.randint(0, X.shape[0], (32,))\n",
    "    \n",
    "    # forward pass\n",
    "    emb = C[X[ix]] # (num_of_examples, 3, 2) -> (32, 3, 2) b/c of minibatching\n",
    "    h = torch.tanh(emb.view(-1, 6) @ W1 + b1) # (32, 100)\n",
    "    logits = h @ W2 + b2\n",
    "    loss = F.cross_entropy(logits, Y[ix])\n",
    "#     print(loss.item())\n",
    "   \n",
    "    # backward pass\n",
    "    for p in parameters:\n",
    "        p.grad = None\n",
    "    loss.backward()\n",
    "    \n",
    "    # update\n",
    "    lr = 0.1\n",
    "    for p in parameters:\n",
    "        p.data += -lr * p.grad\n",
    "#     # track stats\n",
    "#     lri.append(lre[i])\n",
    "#     lossi.append(loss.item())"
   ]
  },
  {
   "cell_type": "code",
   "execution_count": 57,
   "metadata": {},
   "outputs": [
    {
     "data": {
      "text/plain": [
       "tensor(2.3746, grad_fn=<NllLossBackward0>)"
      ]
     },
     "execution_count": 57,
     "metadata": {},
     "output_type": "execute_result"
    }
   ],
   "source": [
    "emb = C[X] # (num_of_examples, 3, 2)\n",
    "h = torch.tanh(emb.view(-1,6) @ W1 + b1) # (num_of_examples, 100)\n",
    "logits = h @ W2 + b2 # (num_of_examples, 27)\n",
    "loss = F.cross_entropy(logits, Y)\n",
    "loss"
   ]
  },
  {
   "cell_type": "code",
   "execution_count": 44,
   "metadata": {},
   "outputs": [
    {
     "data": {
      "text/plain": [
       "[<matplotlib.lines.Line2D at 0x118dc694970>]"
      ]
     },
     "execution_count": 44,
     "metadata": {},
     "output_type": "execute_result"
    },
    {
     "data": {
      "image/png": "[encoded data removed]",
      "text/plain": [
       "<Figure size 432x288 with 1 Axes>"
      ]
     },
     "metadata": {
      "needs_background": "light"
     },
     "output_type": "display_data"
    }
   ],
   "source": [
    "# do not run \n",
    "# used to find the exponent for best learning rate\n",
    "# y axis is loss\n",
    "# x axis is exponent of learning rate\n",
    "plt.plot(lri, lossi)"
   ]
  },
  {
   "cell_type": "code",
   "execution_count": 182,
   "metadata": {},
   "outputs": [],
   "source": [
    "# Splitting the data into training, dev, and test data\n",
    "\n",
    "# build the dataset function\n",
    "\n",
    "\n",
    "# build the dataset\n",
    "block_size = 5 # context length: how many characters do we take to predict the next one?\n",
    "\n",
    "def build_dataset(words):  \n",
    "  X, Y = [], []\n",
    "  for w in words:\n",
    "\n",
    "    #print(w)\n",
    "    context = [0] * block_size\n",
    "    for ch in w + '.':\n",
    "      ix = stoi[ch]\n",
    "      X.append(context)\n",
    "      Y.append(ix)\n",
    "      #print(''.join(itos[i] for i in context), '--->', itos[ix])\n",
    "      context = context[1:] + [ix] # crop and append\n",
    "\n",
    "  X = torch.tensor(X)\n",
    "  Y = torch.tensor(Y)\n",
    "  print(X.shape, Y.shape)\n",
    "  return X, Y"
   ]
  },
  {
   "cell_type": "code",
   "execution_count": 146,
   "metadata": {},
   "outputs": [
    {
     "name": "stdout",
     "output_type": "stream",
     "text": [
      "torch.Size([182625, 3]) torch.Size([182625])\n",
      "torch.Size([22655, 3]) torch.Size([22655])\n",
      "torch.Size([22866, 3]) torch.Size([22866])\n"
     ]
    }
   ],
   "source": [
    "import random\n",
    "random.seed(42)\n",
    "\n",
    "# read in all the words\n",
    "#words = open('names_huge.txt', 'r').read().splitlines()\n",
    "words = open('names.txt', 'r').read().splitlines()\n",
    "\n",
    "random.shuffle(words)\n",
    "n1 = int(0.8*len(words))\n",
    "n2 = int(0.9*len(words))\n",
    "\n",
    "# training split, dev/validation split, test split\n",
    "# 80%, 10%, 10%\n",
    "\n",
    "Xtr, Ytr = build_dataset(words[:n1])\n",
    "Xdev, Ydev = build_dataset(words[n1:n2])\n",
    "Xte, Yte = build_dataset(words[n2:])"
   ]
  },
  {
   "cell_type": "code",
   "execution_count": 147,
   "metadata": {},
   "outputs": [
    {
     "data": {
      "text/plain": [
       "(torch.Size([182625, 3]), torch.Size([182625]))"
      ]
     },
     "execution_count": 147,
     "metadata": {},
     "output_type": "execute_result"
    }
   ],
   "source": [
    "Xtr.shape, Ytr.shape # dataset"
   ]
  },
  {
   "cell_type": "code",
   "execution_count": 148,
   "metadata": {},
   "outputs": [],
   "source": [
    "g = torch.Generator().manual_seed(2147483647) # for reproducibility\n",
    "C = torch.randn((27,10), generator=g)\n",
    "W1 = torch.randn((30, 200), generator=g)\n",
    "b1 = torch.randn(200, generator=g)\n",
    "W2 = torch.randn((200, 27), generator=g)\n",
    "b2 = torch.randn(27, generator=g)\n",
    "parameters = [C, W1, b1, W2, b2]"
   ]
  },
  {
   "cell_type": "code",
   "execution_count": 149,
   "metadata": {},
   "outputs": [
    {
     "data": {
      "text/plain": [
       "11897"
      ]
     },
     "execution_count": 149,
     "metadata": {},
     "output_type": "execute_result"
    }
   ],
   "source": [
    "sum(p.nelement() for p in parameters) # number of parameters in total"
   ]
  },
  {
   "cell_type": "code",
   "execution_count": 150,
   "metadata": {},
   "outputs": [],
   "source": [
    "for p in parameters:\n",
    "    p.requires_grad = True"
   ]
  },
  {
   "cell_type": "code",
   "execution_count": 151,
   "metadata": {},
   "outputs": [],
   "source": [
    "lre = torch.linspace(-3, 0, 10000) # learning rate exponent\n",
    "lrs = 10**lre"
   ]
  },
  {
   "cell_type": "code",
   "execution_count": 152,
   "metadata": {},
   "outputs": [],
   "source": [
    "lri = []\n",
    "lossi = []\n",
    "stepi = []"
   ]
  },
  {
   "cell_type": "code",
   "execution_count": 166,
   "metadata": {},
   "outputs": [
    {
     "name": "stdout",
     "output_type": "stream",
     "text": [
      "1.8519350290298462\n"
     ]
    }
   ],
   "source": [
    "for i in range(200000):\n",
    "    \n",
    "    # minibatch construct\n",
    "    ix = torch.randint(0, Xtr.shape[0], (32,))\n",
    "    \n",
    "    # forward pass\n",
    "    emb = C[Xtr[ix]] # (num_of_examples, 3, 2) -> (32, 3, 2) b/c of minibatching\n",
    "    h = torch.tanh(emb.view(-1, 30) @ W1 + b1) # (32, 100)\n",
    "    logits = h @ W2 + b2\n",
    "    loss = F.cross_entropy(logits, Ytr[ix])\n",
    "#     print(loss.item())\n",
    "   \n",
    "    # backward pass\n",
    "    for p in parameters:\n",
    "        p.grad = None\n",
    "    loss.backward()\n",
    "    \n",
    "    # update\n",
    "    lr = 0.1 if i < 100000 else 0.01\n",
    "    for p in parameters:\n",
    "        p.data += -lr * p.grad\n",
    "    # track stats\n",
    "    #lri.append(lre[i])\n",
    "    stepi.append(i)\n",
    "    lossi.append(loss.log10().item())\n",
    "print(loss.item())"
   ]
  },
  {
   "cell_type": "code",
   "execution_count": 154,
   "metadata": {},
   "outputs": [
    {
     "data": {
      "text/plain": [
       "[<matplotlib.lines.Line2D at 0x11887530820>]"
      ]
     },
     "execution_count": 154,
     "metadata": {},
     "output_type": "execute_result"
    },
    {
     "data": {
      "image/png": "[encoded data removed]",
      "text/plain": [
       "<Figure size 432x288 with 1 Axes>"
      ]
     },
     "metadata": {
      "needs_background": "light"
     },
     "output_type": "display_data"
    }
   ],
   "source": [
    "plt.plot(stepi, lossi)"
   ]
  },
  {
   "cell_type": "code",
   "execution_count": 167,
   "metadata": {},
   "outputs": [
    {
     "data": {
      "text/plain": [
       "tensor(2.0763, grad_fn=<NllLossBackward0>)"
      ]
     },
     "execution_count": 167,
     "metadata": {},
     "output_type": "execute_result"
    }
   ],
   "source": [
    "emb = C[Xtr] # (num_of_examples, 3, 2)\n",
    "h = torch.tanh(emb.view(-1,30) @ W1 + b1) # (num_of_examples, 100)\n",
    "logits = h @ W2 + b2 # (num_of_examples, 27)\n",
    "loss = F.cross_entropy(logits, Ytr)\n",
    "loss"
   ]
  },
  {
   "cell_type": "code",
   "execution_count": 168,
   "metadata": {},
   "outputs": [
    {
     "data": {
      "text/plain": [
       "tensor(2.1329, grad_fn=<NllLossBackward0>)"
      ]
     },
     "execution_count": 168,
     "metadata": {},
     "output_type": "execute_result"
    }
   ],
   "source": [
    "emb = C[Xdev] # (num_of_examples, 3, 2)\n",
    "h = torch.tanh(emb.view(-1,30) @ W1 + b1) # (num_of_examples, 100)\n",
    "logits = h @ W2 + b2 # (num_of_examples, 27)\n",
    "loss = F.cross_entropy(logits, Ydev)\n",
    "loss"
   ]
  },
  {
   "cell_type": "code",
   "execution_count": 84,
   "metadata": {},
   "outputs": [
    {
     "data": {
      "text/plain": [
       "[<matplotlib.lines.Line2D at 0x1188746efa0>]"
      ]
     },
     "execution_count": 84,
     "metadata": {},
     "output_type": "execute_result"
    },
    {
     "data": {
      "image/png": "[encoded data removed]",
      "text/plain": [
       "<Figure size 432x288 with 1 Axes>"
      ]
     },
     "metadata": {
      "needs_background": "light"
     },
     "output_type": "display_data"
    }
   ],
   "source": [
    "# do not run \n",
    "# used to find the exponent for best learning rate\n",
    "# y axis is loss\n",
    "# x axis is exponent of learning rate\n",
    "plt.plot(lri, lossi)"
   ]
  },
  {
   "cell_type": "code",
   "execution_count": 169,
   "metadata": {},
   "outputs": [
    {
     "data": {
      "image/png": "[encoded data removed]",
      "text/plain": [
       "<Figure size 576x576 with 1 Axes>"
      ]
     },
     "metadata": {
      "needs_background": "light"
     },
     "output_type": "display_data"
    }
   ],
   "source": [
    "# visualize dimensions 0 and 1 of the embedding matrix C for all characters\n",
    "plt.figure(figsize=(8,8))\n",
    "plt.scatter(C[:,0].data, C[:,1].data, s=200)\n",
    "for i in range(C.shape[0]):\n",
    "    plt.text(C[i,0].item(), C[i,1].item(), itos[i], ha=\"center\", va=\"center\", color='white')\n",
    "plt.grid('minor')"
   ]
  },
  {
   "cell_type": "code",
   "execution_count": 170,
   "metadata": {},
   "outputs": [
    {
     "name": "stdout",
     "output_type": "stream",
     "text": [
      "carlah.\n",
      "amelle.\n",
      "khyrilli.\n",
      "thil.\n",
      "skanden.\n",
      "jazonen.\n",
      "deliah.\n",
      "pareen.\n",
      "nellara.\n",
      "chaiivon.\n",
      "legy.\n",
      "dham.\n",
      "porn.\n",
      "quint.\n",
      "shon.\n",
      "walianni.\n",
      "waje.\n",
      "madiarynix.\n",
      "kaelynn.\n",
      "demed.\n"
     ]
    }
   ],
   "source": [
    "# sampling from the network before exercises\n",
    "# sample from the model\n",
    "g = torch.Generator().manual_seed(2147483647 + 10)\n",
    "\n",
    "for _ in range(20):\n",
    "    \n",
    "    out = []\n",
    "    context = [0] * block_size # initialize with all ...\n",
    "    while True:\n",
    "      emb = C[torch.tensor([context])] # (1,block_size,d=dimensionality of embeddings)\n",
    "      h = torch.tanh(emb.view(1, -1) @ W1 + b1)\n",
    "      logits = h @ W2 + b2\n",
    "      probs = F.softmax(logits, dim=1)\n",
    "      ix = torch.multinomial(probs, num_samples=1, generator=g).item()\n",
    "      context = context[1:] + [ix]\n",
    "      out.append(ix)\n",
    "      if ix == 0:\n",
    "        break\n",
    "    \n",
    "    print(''.join(itos[i] for i in out))"
   ]
  },
  {
   "cell_type": "code",
   "execution_count": 1,
   "metadata": {},
   "outputs": [],
   "source": [
    "import torch\n",
    "import torch.nn.functional as F\n",
    "import matplotlib.pyplot as plt # for making figures\n",
    "%matplotlib inline"
   ]
  },
  {
   "cell_type": "code",
   "execution_count": 2,
   "metadata": {},
   "outputs": [],
   "source": [
    "#\n",
    "# exercise #1 beat loss of 2.10 \n",
    "#\n",
    "\n",
    "# Splitting the data into training, dev, and test data\n",
    "\n",
    "# build the dataset function\n",
    "\n",
    "\n",
    "# build the dataset\n",
    "block_size = 3 # context length: how many characters do we take to predict the next one?\n",
    "\n",
    "def build_dataset(words):  \n",
    "  X, Y = [], []\n",
    "  for w in words:\n",
    "\n",
    "    #print(w)\n",
    "    context = [0] * block_size\n",
    "    for ch in w + '.':\n",
    "      ix = stoi[ch]\n",
    "      X.append(context)\n",
    "      Y.append(ix)\n",
    "      #print(''.join(itos[i] for i in context), '--->', itos[ix])\n",
    "      context = context[1:] + [ix] # crop and append\n",
    "\n",
    "  X = torch.tensor(X)\n",
    "  Y = torch.tensor(Y)\n",
    "  print(X.shape, Y.shape)\n",
    "  return X, Y"
   ]
  },
  {
   "cell_type": "code",
   "execution_count": 4,
   "metadata": {},
   "outputs": [
    {
     "name": "stdout",
     "output_type": "stream",
     "text": [
      "{1: 'a', 2: 'b', 3: 'c', 4: 'd', 5: 'e', 6: 'f', 7: 'g', 8: 'h', 9: 'i', 10: 'j', 11: 'k', 12: 'l', 13: 'm', 14: 'n', 15: 'o', 16: 'p', 17: 'q', 18: 'r', 19: 's', 20: 't', 21: 'u', 22: 'v', 23: 'w', 24: 'x', 25: 'y', 26: 'z', 0: '.'}\n",
      "torch.Size([11770851, 3]) torch.Size([11770851])\n",
      "torch.Size([1472002, 3]) torch.Size([1472002])\n",
      "torch.Size([1471356, 3]) torch.Size([1471356])\n"
     ]
    }
   ],
   "source": [
    "import random\n",
    "random.seed(42)\n",
    "\n",
    "# read in all the words\n",
    "words = open('names_huge.txt', 'r').read().splitlines()\n",
    "#words = open('names.txt', 'r').read().splitlines()\n",
    "\n",
    "# build the vocabulary of characters and mappings to/from integers\n",
    "chars = sorted(list(set(''.join(words))))\n",
    "stoi = {s:i+1 for i,s in enumerate(chars)}\n",
    "stoi['.'] = 0\n",
    "itos = {i:s for s,i in stoi.items()}\n",
    "print(itos)\n",
    "\n",
    "random.shuffle(words)\n",
    "n1 = int(0.8*len(words))\n",
    "n2 = int(0.9*len(words))\n",
    "\n",
    "# training split, dev/validation split, test split\n",
    "# 80%, 10%, 10%\n",
    "\n",
    "Xtr, Ytr = build_dataset(words[:n1])\n",
    "Xdev, Ydev = build_dataset(words[n1:n2])\n",
    "Xte, Yte = build_dataset(words[n2:])"
   ]
  },
  {
   "cell_type": "code",
   "execution_count": 5,
   "metadata": {},
   "outputs": [
    {
     "data": {
      "text/plain": [
       "(torch.Size([11770851, 3]), torch.Size([11770851]))"
      ]
     },
     "execution_count": 5,
     "metadata": {},
     "output_type": "execute_result"
    }
   ],
   "source": [
    "Xtr.shape, Ytr.shape # dataset"
   ]
  },
  {
   "cell_type": "code",
   "execution_count": 28,
   "metadata": {},
   "outputs": [],
   "source": [
    "g = torch.Generator().manual_seed(2147483647) # for reproducibility\n",
    "C = torch.randn((27,10), generator=g)\n",
    "W1 = torch.randn((30, 200), generator=g)\n",
    "b1 = torch.randn(200, generator=g)\n",
    "W2 = torch.randn((200, 27), generator=g)\n",
    "b2 = torch.randn(27, generator=g)\n",
    "parameters = [C, W1, b1, W2, b2]"
   ]
  },
  {
   "cell_type": "code",
   "execution_count": 29,
   "metadata": {},
   "outputs": [
    {
     "data": {
      "text/plain": [
       "11897"
      ]
     },
     "execution_count": 29,
     "metadata": {},
     "output_type": "execute_result"
    }
   ],
   "source": [
    "sum(p.nelement() for p in parameters) # number of parameters in total"
   ]
  },
  {
   "cell_type": "code",
   "execution_count": 30,
   "metadata": {},
   "outputs": [],
   "source": [
    "for p in parameters:\n",
    "    p.requires_grad = True"
   ]
  },
  {
   "cell_type": "code",
   "execution_count": 31,
   "metadata": {},
   "outputs": [],
   "source": [
    "lre = torch.linspace(-3, 0, 10000) # learning rate exponent\n",
    "lrs = 10**lre"
   ]
  },
  {
   "cell_type": "code",
   "execution_count": 32,
   "metadata": {},
   "outputs": [],
   "source": [
    "lri = []\n",
    "lossi = []\n",
    "stepi = []"
   ]
  },
  {
   "cell_type": "code",
   "execution_count": 44,
   "metadata": {},
   "outputs": [
    {
     "name": "stdout",
     "output_type": "stream",
     "text": [
      "1.9434937238693237\n"
     ]
    }
   ],
   "source": [
    "for i in range(500000):\n",
    "    \n",
    "    # minibatch construct\n",
    "    ix = torch.randint(0, Xtr.shape[0], (64,))\n",
    "    \n",
    "    # forward pass\n",
    "    emb = C[Xtr[ix]] # (num_of_examples, 3, 2) -> (32, 3, 2) b/c of minibatching\n",
    "    h = torch.tanh(emb.view(-1, 30) @ W1 + b1) # (32, 100)\n",
    "    logits = h @ W2 + b2\n",
    "    loss = F.cross_entropy(logits, Ytr[ix])\n",
    "#     print(loss.item())\n",
    "   \n",
    "    # backward pass\n",
    "    for p in parameters:\n",
    "        p.grad = None\n",
    "    loss.backward()\n",
    "    \n",
    "    # update\n",
    "    lr = 0.1 if i < 250000 else 0.01\n",
    "    for p in parameters:\n",
    "        p.data += -lr * p.grad\n",
    "    # track stats\n",
    "    #lri.append(lre[i])\n",
    "    stepi.append(i)\n",
    "    lossi.append(loss.log10().item())\n",
    "print(loss.item())"
   ]
  },
  {
   "cell_type": "code",
   "execution_count": 35,
   "metadata": {},
   "outputs": [
    {
     "data": {
      "text/plain": [
       "[<matplotlib.lines.Line2D at 0x1e5933305b0>]"
      ]
     },
     "execution_count": 35,
     "metadata": {},
     "output_type": "execute_result"
    },
    {
     "data": {
      "image/png": "[encoded data removed]",
      "text/plain": [
       "<Figure size 432x288 with 1 Axes>"
      ]
     },
     "metadata": {
      "needs_background": "light"
     },
     "output_type": "display_data"
    }
   ],
   "source": [
    "plt.plot(stepi, lossi)"
   ]
  },
  {
   "cell_type": "code",
   "execution_count": null,
   "metadata": {},
   "outputs": [],
   "source": [
    "emb = C[Xtr] # (num_of_examples, 3, 2)\n",
    "h = torch.tanh(emb.view(-1,30) @ W1 + b1) # (num_of_examples, 100)\n",
    "logits = h @ W2 + b2 # (num_of_examples, 27)\n",
    "loss = F.cross_entropy(logits, Ytr)\n",
    "loss"
   ]
  },
  {
   "cell_type": "code",
   "execution_count": 45,
   "metadata": {},
   "outputs": [
    {
     "data": {
      "text/plain": [
       "tensor(1.9900, grad_fn=<NllLossBackward0>)"
      ]
     },
     "execution_count": 45,
     "metadata": {},
     "output_type": "execute_result"
    }
   ],
   "source": [
    "emb = C[Xdev] # (num_of_examples, 3, 2)\n",
    "h = torch.tanh(emb.view(-1,30) @ W1 + b1) # (num_of_examples, 100)\n",
    "logits = h @ W2 + b2 # (num_of_examples, 27)\n",
    "loss = F.cross_entropy(logits, Ydev)\n",
    "loss"
   ]
  },
  {
   "cell_type": "code",
   "execution_count": 46,
   "metadata": {},
   "outputs": [
    {
     "name": "stdout",
     "output_type": "stream",
     "text": [
      "carmaizabelle.\n",
      "khi.\n",
      "mili.\n",
      "thomasiah.\n",
      "sal.\n",
      "rahnel.\n",
      "dellari.\n",
      "kaeli.\n",
      "nellara.\n",
      "chaih.\n",
      "des.\n",
      "eve.\n",
      "delmo.\n",
      "din.\n",
      "quinthonovera.\n",
      "jadiquis.\n",
      "elo.\n",
      "dearyn.\n",
      "karmen.\n",
      "dura.\n"
     ]
    }
   ],
   "source": [
    "# sample from the model\n",
    "g = torch.Generator().manual_seed(2147483647 + 10)\n",
    "\n",
    "for _ in range(20):\n",
    "    \n",
    "    out = []\n",
    "    context = [0] * block_size # initialize with all ...\n",
    "    while True:\n",
    "      emb = C[torch.tensor([context])] # (1,block_size,d=dimensionality of embeddings)\n",
    "      h = torch.tanh(emb.view(1, -1) @ W1 + b1)\n",
    "      logits = h @ W2 + b2\n",
    "      probs = F.softmax(logits, dim=1)\n",
    "      ix = torch.multinomial(probs, num_samples=1, generator=g).item()\n",
    "      context = context[1:] + [ix]\n",
    "      out.append(ix)\n",
    "      if ix == 0:\n",
    "        break\n",
    "    \n",
    "    print(''.join(itos[i] for i in out))"
   ]
  }
 ],
 "metadata": {
  "kernelspec": {
   "display_name": "Python 3",
   "language": "python",
   "name": "python3"
  },
  "language_info": {
   "codemirror_mode": {
    "name": "ipython",
    "version": 3
   },
   "file_extension": ".py",
   "mimetype": "text/x-python",
   "name": "python",
   "nbconvert_exporter": "python",
   "pygments_lexer": "ipython3",
   "version": "3.8.5"
  }
 },
 "nbformat": 4,
 "nbformat_minor": 4
}
